{
 "cells": [
  {
   "cell_type": "code",
   "execution_count": 6,
   "metadata": {},
   "outputs": [],
   "source": [
    "from marl_eval.utils.diagnose_data_errors import DiagnoseData\n",
    "import json"
   ]
  },
  {
   "cell_type": "code",
   "execution_count": 7,
   "metadata": {},
   "outputs": [],
   "source": [
    "data_dir = \"./concatenated_json_files/metrics.json\"\n",
    "\n",
    "with open(data_dir, \"r\") as f:\n",
    "    raw_data = json.load(f)"
   ]
  },
  {
   "cell_type": "code",
   "execution_count": 8,
   "metadata": {},
   "outputs": [],
   "source": [
    "diagnose_obj = DiagnoseData(raw_data)"
   ]
  },
  {
   "cell_type": "code",
   "execution_count": 9,
   "metadata": {},
   "outputs": [
    {
     "name": "stdout",
     "output_type": "stream",
     "text": [
      "The number of steps is not identical through the different runs,                 algorithms and scenarios.\n",
      " The minimum number of steps: 98 steps.\n",
      "The metrics used across the different steps, runs, algorithms                    and scenarios are not the same\n",
      "                    The overlapping metrics are :\n",
      " ['mean_episode_return']\n",
      "invalid format for the environment matrax!\n"
     ]
    }
   ],
   "source": [
    "diagnosis_results = diagnose_obj.check_data()"
   ]
  },
  {
   "cell_type": "code",
   "execution_count": 10,
   "metadata": {},
   "outputs": [
    {
     "name": "stdout",
     "output_type": "stream",
     "text": [
      "Environment: matrax\n",
      "Valid algorithms: True\n",
      "Valid algorithm names: True\n",
      "Valid runs: True\n",
      "Valid steps: False\n",
      "Valid metrics: False\n",
      "\n"
     ]
    }
   ],
   "source": [
    "for environment, results in diagnosis_results.items():\n",
    "    print(\"Environment:\", environment)\n",
    "    print(\"Valid algorithms:\", results[\"valid_algorithms\"])\n",
    "    print(\"Valid algorithm names:\", results[\"valid_algorithm_names\"])\n",
    "    print(\"Valid runs:\", results[\"valid_runs\"])\n",
    "    print(\"Valid steps:\", results[\"valid_steps\"])\n",
    "    print(\"Valid metrics:\", results[\"valid_metrics\"])\n",
    "    print()"
   ]
  }
 ],
 "metadata": {
  "kernelspec": {
   "display_name": ".venv",
   "language": "python",
   "name": "python3"
  },
  "language_info": {
   "codemirror_mode": {
    "name": "ipython",
    "version": 3
   },
   "file_extension": ".py",
   "mimetype": "text/x-python",
   "name": "python",
   "nbconvert_exporter": "python",
   "pygments_lexer": "ipython3",
   "version": "3.10.12"
  }
 },
 "nbformat": 4,
 "nbformat_minor": 2
}
